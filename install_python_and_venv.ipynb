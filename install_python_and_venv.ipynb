{
 "cells": [
  {
   "cell_type": "markdown",
   "metadata": {},
   "source": [
    "# Installing Python 3.10 and Creating a Virtual Environment on Ubuntu EC2\n",
    "\n",
    "This tutorial provides step-by-step instructions on how to install Python 3.10 and create a virtual environment on an Ubuntu EC2 instance."
   ]
  },
  {
   "cell_type": "markdown",
   "metadata": {},
   "source": [
    "## Step 1: Update the Package List\n",
    "First, update your package list to ensure you have the latest information on available packages."
   ]
  },
  {
   "cell_type": "code",
   "metadata": {},
   "source": [
    "!sudo apt update"
   ],
   "execution_count": null,
   "outputs": []
  },
  {
   "cell_type": "markdown",
   "metadata": {},
   "source": [
    "## Step 2: Add the Deadsnakes PPA\n",
    "The Deadsnakes PPA is a popular source for newer Python versions."
   ]
  },
  {
   "cell_type": "code",
   "metadata": {},
   "source": [
    "!sudo add-apt-repository ppa:deadsnakes/ppa"
   ],
   "execution_count": null,
   "outputs": []
  },
  {
   "cell_type": "markdown",
   "metadata": {},
   "source": [
    "You may need to install the `software-properties-common` package if the `add-apt-repository` command is not found:"
   ]
  },
  {
   "cell_type": "code",
   "metadata": {},
   "source": [
    "!sudo apt install software-properties-common"
   ],
   "execution_count": null,
   "outputs": []
  },
  {
   "cell_type": "markdown",
   "metadata": {},
   "source": [
    "## Step 3: Update the Package List Again\n",
    "After adding the PPA, update your package list."
   ]
  },
  {
   "cell_type": "code",
   "metadata": {},
   "source": [
    "!sudo apt update"
   ],
   "execution_count": null,
   "outputs": []
  },
  {
   "cell_type": "markdown",
   "metadata": {},
   "source": [
    "## Step 4: Install Python 3.10\n",
    "Now, you should be able to install Python 3.10."
   ]
  },
  {
   "cell_type": "code",
   "metadata": {},
   "source": [
    "!sudo apt install python3.10"
   ],
   "execution_count": null,
   "outputs": []
  },
  {
   "cell_type": "markdown",
   "metadata": {},
   "source": [
    "## Step 5: Verify the Installation\n",
    "Check the Python version to ensure that the installation was successful."
   ]
  },
  {
   "cell_type": "code",
   "metadata": {},
   "source": [
    "!python3.10 --version"
   ],
   "execution_count": null,
   "outputs": []
  },
  {
   "cell_type": "markdown",
   "metadata": {},
   "source": [
    "## Step 6: Install `pip` and `venv`\n",
    "To install `pip` and the `venv` module for Python 3.10:"
   ]
  },
  {
   "cell_type": "code",
   "metadata": {},
   "source": [
    "!sudo apt install python3.10-distutils"
   ],
   "execution_count": null,
   "outputs": []
  },
  {
   "cell_type": "code",
   "metadata": {},
   "source": [
    "!curl -sS https://bootstrap.pypa.io/get-pip.py | sudo python3.10"
   ],
   "execution_count": null,
   "outputs": []
  },
  {
   "cell_type": "code",
   "metadata": {},
   "source": [
    "!sudo apt install python3.10-venv"
   ],
   "execution_count": null,
   "outputs": []
  },
  {
   "cell_type": "markdown",
   "metadata": {},
   "source": [
    "## Step 7: Create and Activate a Virtual Environment\n",
    "Create a directory for your project and navigate into it. Then create a virtual environment using the `venv` module."
   ]
  },
  {
   "cell_type": "code",
   "metadata": {},
   "source": [
    "!mkdir my_project\n",
    "!cd my_project\n",
    "!python3.10 -m venv myenv\n",
    "!source myenv/bin/activate"
   ],
   "execution_count": null,
   "outputs": []
  },
  {
   "cell_type": "markdown",
   "metadata": {},
   "source": [
    "## Step 8: Deactivate the Virtual Environment\n",
    "When you're done working in the virtual environment, you can deactivate it by running:"
   ]
  },
  {
   "cell_type": "code",
   "metadata": {},
   "source": [
    "!deactivate"
   ],
   "execution_count": null,
   "outputs": []
  },
  {
   "cell_type": "markdown",
   "metadata": {},
   "source": [
    "## Summary of Steps\n",
    "1. **Add Deadsnakes PPA**: `sudo add-apt-repository ppa:deadsnakes/ppa`\n",
    "2. **Update package list**: `sudo apt update`\n",
    "3. **Install Python 3.10**: `sudo apt install python3.10`\n",
    "4. **Install `pip` and `venv`**:\n",
    "   - `sudo apt install python3.10-distutils`\n",
    "   - `curl -sS https://bootstrap.pypa.io/get-pip.py | sudo python3.10`\n",
    "   - `sudo apt install python3.10-venv`\n",
    "5. **Create a virtual environment**: `python3.10 -m venv myenv`\n",
    "6. **Activate the virtual environment**: `source myenv/bin/activate`\n",
    "7. **Deactivate the virtual environment**: `deactivate`\n",
    "\n",
    "By following these steps, you should be able to install Python 3.10 on your Ubuntu EC2 instance and set up a virtual environment."
   ]
  }
 ],
 "metadata": {
  "kernelspec": {
   "display_name": "Python 3",
   "language": "python",
   "name": "python3"
  },
  "language_info": {
   "codemirror_mode": {
    "name": "ipython",
    "version": 3
   },
   "file_extension": ".py",
   "mimetype": "text/x-python",
   "name": "python",
   "nbconvert_exporter": "python",
   "pygments_lexer": "ipython3",
   "version": "3.10"
  }
 },
 "nbformat": 4,
 "nbformat_minor": 4
}
