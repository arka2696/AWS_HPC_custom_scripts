{
 "cells": [
  {
   "cell_type": "markdown",
   "id": "7d2686a8",
   "metadata": {},
   "source": [
    "# Mounting an S3 Bucket as a Drive in Windows Using Rclone"
   ]
  },
  {
   "cell_type": "markdown",
   "id": "8e4a9384",
   "metadata": {},
   "source": [
    "\n",
    "This notebook provides a summary of the steps to configure and mount an Amazon S3 bucket as a mapped drive on Windows using Rclone. \n",
    "Rclone is a command-line program to manage files on cloud storage and supports mounting cloud storage as a local drive.\n",
    "\n",
    "## Steps\n"
   ]
  },
  {
   "cell_type": "markdown",
   "id": "4de28f44",
   "metadata": {},
   "source": [
    "### 1. Install Rclone"
   ]
  },
  {
   "cell_type": "markdown",
   "id": "aa5aaf0e",
   "metadata": {},
   "source": [
    "\n",
    "1. Download the Rclone executable from the [official Rclone website](https://rclone.org/downloads/).\n",
    "2. Follow the installation instructions for your operating system.\n"
   ]
  },
  {
   "cell_type": "markdown",
   "id": "0ec76a2b",
   "metadata": {},
   "source": [
    "### 2. Configure Rclone for S3"
   ]
  },
  {
   "cell_type": "code",
   "execution_count": null,
   "id": "9f9ab71b",
   "metadata": {},
   "outputs": [],
   "source": [
    "\n",
    "# Run the following command in the command prompt or terminal to start the configuration process\n",
    "!rclone config\n"
   ]
  },
  {
   "cell_type": "markdown",
   "id": "bf3fc042",
   "metadata": {},
   "source": [
    "\n",
    "**Steps:**\n",
    "1. In the command line, run `rclone config` to start the configuration.\n",
    "2. Choose **New remote** to add a new remote configuration.\n",
    "3. Name the new remote (e.g., `mybucket`).\n",
    "4. Select `S3` as the storage type (usually option 4).\n",
    "5. Enter your AWS credentials:\n",
    "   - **AWS Access Key ID** and **AWS Secret Access Key** (found in your AWS IAM Console).\n",
    "   - Choose the region for your bucket (e.g., `us-east-1`).\n",
    "6. Complete the configuration and save.\n",
    "\n",
    "Once saved, you can check the connection with:\n"
   ]
  },
  {
   "cell_type": "code",
   "execution_count": null,
   "id": "192190fe",
   "metadata": {},
   "outputs": [],
   "source": [
    "!rclone ls mybucket:/"
   ]
  },
  {
   "cell_type": "markdown",
   "id": "52836376",
   "metadata": {},
   "source": [
    "### 3. Mount the S3 Bucket as a Drive"
   ]
  },
  {
   "cell_type": "code",
   "execution_count": null,
   "id": "ca68254e",
   "metadata": {},
   "outputs": [],
   "source": [
    "\n",
    "# Use the following command to mount the S3 bucket (e.g., as drive X:)\n",
    "!rclone mount mybucket:/ X: --vfs-cache-mode full\n"
   ]
  },
  {
   "cell_type": "markdown",
   "id": "109ec57c",
   "metadata": {},
   "source": [
    "\n",
    "Explanation of the options:\n",
    "- **mybucket:** The name of your remote (configured in the previous step).\n",
    "- **X:** The drive letter you want to assign.\n",
    "- **--vfs-cache-mode full:** Enables full caching for better performance and compatibility.\n",
    "\n",
    "### 4. Automate the Mount on Startup (Optional)\n",
    "To automate mounting, create a batch file with the mount command and use Task Scheduler to run it at startup.\n",
    "\n",
    "## Notes\n",
    "- Ensure that the Rclone mount command window remains open to keep the drive mounted.\n",
    "- To mount as a background service, consider using PowerShell scripts or Task Scheduler.\n"
   ]
  },
  {
   "cell_type": "markdown",
   "id": "fa39b759",
   "metadata": {},
   "source": [
    "You can now access the S3 bucket as a drive on your Windows system!"
   ]
  }
 ],
 "metadata": {},
 "nbformat": 4,
 "nbformat_minor": 5
}
