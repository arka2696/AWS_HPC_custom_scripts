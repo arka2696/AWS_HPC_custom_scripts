{
 "cells": [
  {
   "cell_type": "markdown",
   "id": "87b91426",
   "metadata": {},
   "source": [
    "# Automating NVMe Drive Mounting on EC2 with a .bat Script"
   ]
  },
  {
   "cell_type": "markdown",
   "id": "27462be2",
   "metadata": {},
   "source": [
    "\n",
    "In this notebook, we provide a step-by-step guide to create a `.bat` script for automating the process of mounting an ephemeral NVMe SSD drive on an EC2 Windows Server instance.\n",
    "\n",
    "Every time the EC2 instance stops, ephemeral NVMe storage is unmounted. This `.bat` script, when run, will re-partition, format, and assign a drive letter to the NVMe volume, making it available for use.\n"
   ]
  },
  {
   "cell_type": "markdown",
   "id": "488215fd",
   "metadata": {},
   "source": [
    "\n",
    "## Prerequisites\n",
    "- **Administrator Privileges**: You need to run the `.bat` file with administrator privileges for it to execute successfully.\n",
    "- **Drive Verification**: Identify the disk number of your NVMe drive using `Disk Management` in Windows. Note this disk number as you will use it in the script.\n"
   ]
  },
  {
   "cell_type": "markdown",
   "id": "4500f3d3",
   "metadata": {},
   "source": [
    "\n",
    "## Step 1: Create the `.bat` File\n",
    "Below is the `.bat` script to automate partitioning, formatting, and assigning a drive letter to your NVMe volume.\n",
    "\n",
    "### Script\n",
    "\n",
    "Save the following script as `mount_nvme_drive.bat`.\n",
    "\n",
    "```bat\n",
    "@echo off\n",
    ":: Set the disk number and drive letter\n",
    "set DISK_NUMBER=1\n",
    "set DRIVE_LETTER=Z\n",
    "\n",
    ":: Check if the drive letter is already assigned\n",
    "wmic logicaldisk get name | find \"%DRIVE_LETTER%:\" >nul\n",
    "if %errorlevel% equ 0 (\n",
    "    echo Drive %DRIVE_LETTER% is already mounted.\n",
    "    exit /b\n",
    ")\n",
    "\n",
    ":: Create DiskPart script file dynamically\n",
    "echo list disk > \"%temp%\\diskpart_script.txt\"\n",
    "echo select disk %DISK_NUMBER% >> \"%temp%\\diskpart_script.txt\"\n",
    "echo clean >> \"%temp%\\diskpart_script.txt\"\n",
    "echo create partition primary >> \"%temp%\\diskpart_script.txt\"\n",
    "echo format fs=ntfs quick >> \"%temp%\\diskpart_script.txt\"\n",
    "echo assign letter=%DRIVE_LETTER% >> \"%temp%\\diskpart_script.txt\"\n",
    "\n",
    ":: Run DiskPart with the script\n",
    "diskpart /s \"%temp%\\diskpart_script.txt\"\n",
    "\n",
    ":: Clean up the script file\n",
    "del \"%temp%\\diskpart_script.txt\"\n",
    "\n",
    "echo Drive %DRIVE_LETTER% has been mounted and formatted.\n",
    "pause\n",
    "```\n",
    "\n",
    "### Explanation\n",
    "\n",
    "1. **Set Disk Number and Drive Letter**: Replace `DISK_NUMBER` with your NVMe drive's disk number (default is `1`). Choose an available `DRIVE_LETTER`, like `Z`.\n",
    "\n",
    "2. **Create DiskPart Script**: The script dynamically creates a `diskpart_script.txt` file that DiskPart uses to process commands for partitioning, formatting, and assigning the drive letter.\n",
    "\n",
    "3. **Clean, Partition, Format, and Assign Drive Letter**: The script uses DiskPart commands:\n",
    "   - `clean`: Clears the disk, removing all existing data.\n",
    "   - `create partition primary`: Creates a primary partition.\n",
    "   - `format fs=ntfs quick`: Formats the partition as NTFS.\n",
    "   - `assign letter=Z`: Assigns drive letter `Z` (or the specified letter).\n"
   ]
  },
  {
   "cell_type": "markdown",
   "id": "07bd2918",
   "metadata": {},
   "source": [
    "\n",
    "## Important Notes\n",
    "\n",
    "- **Disk Number**: Make sure `DISK_NUMBER=1` in the script matches your actual NVMe disk. Adjust it if the number is different.\n",
    "- **Drive Letter**: The drive letter `Z` is assigned; you can modify this to any available letter.\n",
    "- **Data Loss Warning**: The `clean` command erases all existing data on the selected disk. Only use this on an ephemeral NVMe drive or if you're sure data loss is acceptable.\n"
   ]
  },
  {
   "cell_type": "markdown",
   "id": "bf9fe033",
   "metadata": {},
   "source": [
    "\n",
    "## Step 2: Running the Script\n",
    "\n",
    "1. Save the `.bat` file with the provided content.\n",
    "2. **Run the script as an administrator** by right-clicking and selecting \"Run as Administrator.\"\n",
    "3. Upon running, the script will mount the NVMe drive, format it if needed, and assign the specified drive letter.\n",
    "\n",
    "You should see output indicating the drive's successful mounting and formatting. \n",
    "\n",
    "**Optional:** To automate mounting at startup, place the `.bat` file in the Windows Startup folder:\n",
    "   - Press `Win + R`, type `shell:startup`, and press Enter.\n",
    "   - Add the `.bat` file to this folder.\n",
    "   \n",
    "This will ensure the script runs every time the instance starts, preparing the NVMe drive for use.\n"
   ]
  },
  {
   "cell_type": "markdown",
   "id": "687231b9",
   "metadata": {},
   "source": [
    "\n",
    "## Summary\n",
    "\n",
    "This notebook provides a `.bat` script that automates mounting an ephemeral NVMe SSD on a Windows Server EC2 instance. The script dynamically creates a DiskPart script to:\n",
    "- Clean the NVMe disk (if needed).\n",
    "- Create a partition, format it to NTFS, and assign a drive letter.\n",
    "\n",
    "This script simplifies NVMe mounting and can be set to run at startup for convenience.\n"
   ]
  }
 ],
 "metadata": {},
 "nbformat": 4,
 "nbformat_minor": 5
}
