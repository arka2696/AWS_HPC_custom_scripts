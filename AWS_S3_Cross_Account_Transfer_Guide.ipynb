{
 "cells": [
  {
   "cell_type": "markdown",
   "id": "451cfa61",
   "metadata": {},
   "source": [
    "# AWS S3 Cross-Account File Transfer Guide"
   ]
  },
  {
   "cell_type": "markdown",
   "id": "0cb7114f",
   "metadata": {},
   "source": [
    "\n",
    "This guide demonstrates how to transfer files from an S3 bucket in one AWS account (source) to another bucket in a different AWS account (destination) using the AWS CLI.\n",
    "\n",
    "## Scenario\n",
    "- **Source Bucket**: `cellprofileraws` in `us-east-1`\n",
    "- **Destination Bucket**: `arkalivr` in `eu-central-1`\n",
    "- **Goal**: Copy all files from `s3://cellprofileraws/Image_data/` to `s3://arkalivr/test/` while ensuring the destination bucket owner has full control.\n",
    "\n",
    "## Key Steps\n",
    "1. **Configure Permissions**: Ensure the destination bucket allows write access for the source account.\n",
    "2. **Use Recursive Copy**: Use `--recursive` to copy all files from the source directory.\n",
    "3. **Transfer Ownership (Optional)**: Set up **Bucket Owner Enforced** mode on the destination bucket to automatically assign ownership of uploaded files to the destination bucket owner.\n"
   ]
  },
  {
   "cell_type": "markdown",
   "id": "6d8b3546",
   "metadata": {},
   "source": [
    "\n",
    "## Step 1: Configure Cross-Account Permissions on the Destination Bucket\n",
    "\n",
    "To allow the source account to upload files, the owner of the destination bucket should add a bucket policy like this:\n",
    "\n",
    "```json\n",
    "{\n",
    "  \"Version\": \"2012-10-17\",\n",
    "  \"Statement\": [\n",
    "    {\n",
    "      \"Effect\": \"Allow\",\n",
    "      \"Principal\": {\n",
    "        \"AWS\": \"arn:aws:iam::YOUR_ACCOUNT_ID:root\"\n",
    "      },\n",
    "      \"Action\": \"s3:PutObject\",\n",
    "      \"Resource\": \"arn:aws:s3:::arkalivr/*\"\n",
    "    }\n",
    "  ]\n",
    "}\n",
    "```\n",
    "\n",
    "Replace `YOUR_ACCOUNT_ID` with the actual account ID of the source bucket owner **(Insert the account ID of the source bucket, here the source bucket is located in the us-east-1 region)**. This policy will grant permission to upload files from the source account to the destination bucket.\n"
   ]
  },
  {
   "cell_type": "markdown",
   "id": "368bda1f",
   "metadata": {},
   "source": [
    "\n",
    "## Step 2: Use Recursive Copy to Transfer Files\n",
    "\n",
    "To copy all files from `Image_data` in the source bucket to the destination bucket, use the `--recursive` option:\n",
    "\n",
    "```bash\n",
    "aws s3 cp s3://cellprofileraws/Image_data/ s3://arkalivr/test/ --region eu-central-1 --recursive\n",
    "```\n",
    "\n",
    "### Explanation\n",
    "- **`--recursive`**: Copies all files and subdirectories within `Image_data`.\n"
   ]
  },
  {
   "cell_type": "markdown",
   "id": "ba3d37f8",
   "metadata": {},
   "source": [
    "\n",
    "## Step 3: Optional - Transfer Ownership Automatically\n",
    "\n",
    "If the destination bucket owner wants automatic ownership of uploaded files, they can enable **Bucket Owner Enforced** mode:\n",
    "\n",
    "1. Go to **S3 Console** > **arkalivr** > **Permissions** > **Object Ownership**.\n",
    "2. Select **Bucket owner enforced** and save changes.\n",
    "\n",
    "This setting will make the destination bucket owner the default owner of all uploaded files, eliminating the need for the `--acl bucket-owner-full-control` flag.\n"
   ]
  }
 ],
 "metadata": {
  "language_info": {
   "name": "python"
  }
 },
 "nbformat": 4,
 "nbformat_minor": 5
}
