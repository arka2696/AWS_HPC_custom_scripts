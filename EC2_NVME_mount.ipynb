{
  "cells": [
    {
      "cell_type": "markdown",
      "metadata": {},
      "source": [
        "# Tutorial: Mounting NVMe SSD in EC2 Instances\n",
        "\n",
        "## Step 1: List Available NVMe Devices\n",
        "List the available NVMe devices using the command:\n",
        "```bash\n",
        "ls /dev/nvme*\n",
        "```\n",
        "\n",
        "## Step 2: Identify the NVMe Device Using `lsblk`\n",
        "```bash\n",
        "lsblk\n",
        "```\n",
        "The `lsblk` command will list all the block devices attached to your instance, showing their mount points, size, and other relevant details. Here’s an example of what the output might look like:\n",
        "```\n",
        "NAME        MAJ:MIN RM  SIZE RO TYPE MOUNTPOINT\n",
        "nvme0n1     259:0    0   65G  0 disk\n",
        "└─nvme0n1p1 259:1    0   65G  0 part /\n",
        "nvme1n1     259:2    0  225G  0 disk\n",
        "```\n",
        "In this example, `nvme0n1` is the root EBS volume (65 GiB) mounted on `/`, and `nvme1n1` is the additional NVMe SSD instance store volume (225 GiB).\n"
      ]
    },
    {
      "cell_type": "markdown",
      "metadata": {},
      "source": [
        "## Step 3: Check Mounted File Systems\n",
        "Run the following command to check the mounted file systems:\n",
        "```bash\n",
        "df -h\n",
        "```\n",
        "Example output:\n",
        "```\n",
        "Filesystem      Size  Used Avail Use% Mounted on\n",
        "/dev/root        63G   48G   16G  77% /\n",
        "tmpfs            32G     0   32G   0% /dev/shm\n",
        "tmpfs            13G  980K   13G   1% /run\n",
        "tmpfs           5.0M     0  5.0M   0% /run/lock\n",
        "efivarfs        128K  4.1K  119K   4% /sys/firmware/efi/efivars\n",
        "/dev/nvme0n1p15 105M  6.1M   99M   6% /boot/efi\n",
        "/dev/mapper/vg.01-lv_ephemeral 206G 28K 195G 1% /opt/dlami/nvme\n",
        "tmpfs           6.3G  4.0K  6.3G   1% /run/user/1000\n",
        "```\n"
      ]
    },
    {
      "cell_type": "markdown",
      "metadata": {},
      "source": [
        "## Step 4: Verify the NVMe SSD Volume and Mount Point\n",
        "Example `lsblk` output:\n",
        "```\n",
        "NAME                 MAJ:MIN RM  SIZE RO TYPE MOUNTPOINTS\n",
        "loop0                  7:0    0  25.2M  1 loop /snap/amazon-ssm-agent/7993\n",
        "loop1                  7:1    0  55.7M  1 loop /snap/core18/2829\n",
        "loop2                  7:2    0  63.9M  1 loop /snap/core20/2318\n",
        "loop3                  7:3    0  87M    1 loop /snap/lxd/28373\n",
        "loop4                  7:4    0  38.8M  1 loop /snap/snapd/21759\n",
        "loop5                  7:5    0  87M    1 loop /snap/lxd/29351\n",
        "nvme0n1              259:0    0   65G  0 disk \n",
        "├─nvme0n1p1          259:2    0 64.9G  0 part /\n",
        "├─nvme0n1p14         259:3    0    4M  0 part \n",
        "└─nvme0n1p15         259:4    0  106M  0 part /boot/efi\n",
        "nvme1n1              259:1    0 209.5G  0 disk \n",
        "└─vg.01-lv_ephemeral 252:0    0 209.5G  0 lvm  /opt/dlami/nvme\n",
        "```\n"
      ]
    },
    {
      "cell_type": "markdown",
      "metadata": {},
      "source": [
        "## Step 5: Remount the Volume to a Different Directory\n",
        "If you want to mount the volume to a different directory, follow these steps:\n",
        "1. Unmount the current mount point:\n",
        "    ```bash\n",
        "    sudo umount /opt/dlami/nvme\n",
        "    ```\n",
        "2. Create a new directory for the mount point (if it doesn’t already exist):\n",
        "    ```bash\n",
        "    sudo mkdir /data\n",
        "    ```\n",
        "3. Mount the NVMe device to the new directory:\n",
        "    ```bash\n",
        "    sudo mount /dev/mapper/vg.01-lv_ephemeral /data\n",
        "    ```\n",
        "4. Verify the new mount:\n",
        "    ```bash\n",
        "    df -h\n",
        "    ```\n"
      ]
    },
    {
      "cell_type": "markdown",
      "metadata": {},
      "source": [
        "## Step 6: Automate the Mounting Process\n",
        "To ensure the volume is mounted to `/data` on every reboot, add an entry to the `/etc/fstab` file:\n",
        "1. Open `/etc/fstab` in a text editor:\n",
        "    ```bash\n",
        "    sudo nano /etc/fstab\n",
        "    ```\n",
        "2. Add the following line to the end of the file (replace `ext4` with the actual file system type if it is different):\n",
        "    ```bash\n",
        "    /dev/mapper/vg.01-lv_ephemeral /data ext4 defaults,nofail 0 2\n",
        "    ```\n",
        "3. Save and close the file.\n",
        "4. Test the `/etc/fstab` entry by unmounting and remounting:\n",
        "    ```bash\n",
        "    sudo umount /data\n",
        "    sudo mount -a\n",
        "    ```\n"
      ]
    },
    {
      "cell_type": "markdown",
      "metadata": {},
      "source": [
        "## Step 7: Determine the File System Type\n",
        "To determine the file system type of your NVMe SSD instance store volume:\n",
        "```bash\n",
        "lsblk -f\n",
        "```\n",
        "Example output:\n",
        "```\n",
        "NAME                 FSTYPE      LABEL UUID                                   MOUNTPOINT\n",
        "nvme0n1                                                                                       \n",
        "├─nvme0n1p1         ext4              e3b9f8a0-2d24-4c1d-a2d8-7c62b6b539c1   /\n",
        "└─nvme0n1p15        vfat              70CB-DA4A                              /boot/efi\n",
        "nvme1n1             ext4              a1c9d634-4e13-4fd1-bddc-09c8de8d1d65   /opt/dlami/nvme\n",
        "```\n"
      ]
    },
    {
      "cell_type": "markdown",
      "metadata": {},
      "source": [
        "## Step 8: Access the Mount Point from Home Directory\n",
        "### Method 1: Creating a Symlink\n",
        "1. Create a symlink:\n",
        "    ```bash\n",
        "    ln -s /data /home/ubuntu/data\n",
        "    ```\n",
        "2. Access the symlink:\n",
        "    ```bash\n",
        "    cd /home/ubuntu/data\n",
        "    ```\n",
        "\n",
        "### Method 2: Bind Mount\n",
        "1. Create a new directory in your home directory:\n",
        "    ```bash\n",
        "    mkdir /home/ubuntu/data\n",
        "    ```\n",
        "2. Bind mount the directory:\n",
        "    ```bash\n",
        "    sudo mount --bind /data /home/ubuntu/data\n",
        "    ```\n",
        "3. Verify the bind mount:\n",
        "    ```bash\n",
        "    df -h\n",
        "    ```\n",
        "4. Access the bind mount:\n",
        "    ```bash\n",
        "    cd /home/ubuntu/data\n",
        "    ```\n",
        "\n",
        "### Method 3: Editing `/etc/fstab` for Persistent Bind Mount\n",
        "1. Open `/etc/fstab`:\n",
        "    ```bash\n",
        "    sudo nano /etc/fstab\n",
        "    ```\n",
        "2. Add the following line:\n",
        "    ```bash\n",
        "    /data /home/ubuntu/data none bind 0 0\n",
        "    ```\n",
        "3. Save and close the file (Ctrl+O, Enter, Ctrl+X).\n",
        "4. Test the `/etc/fstab` entry:\n",
        "    ```bash\n",
        "    sudo mount -a\n",
        "    ```\n",
        "5. Verify the bind mount:\n",
        "    ```bash\n",
        "    df -h\n",
        "    ```\n"
      ]
    },
    {
      "cell_type": "markdown",
      "metadata": {},
      "source": [
        "## Summary\n",
        "By following these steps, you can successfully mount your NVMe SSD instance store volume to a desired directory and access it from your home directory, ensuring easy access and persistent configuration.\n"
      ]
    }
  ],
  "metadata": {
    "kernelspec": {
      "display_name": "Python 3",
      "language": "python",
      "name": "python3"
    },
    "language_info": {
      "codemirror_mode": {
        "name": "ipython",
        "version": 3
      },
      "file_extension": ".py",
      "mimetype": "text/x-python",
      "name": "python",
      "nbconvert_exporter": "python",
      "pygments_lexer": "ipython3",
      "version": "3.8.5"
    }
  },
  "nbformat": 4,
  "nbformat_minor": 4
}
